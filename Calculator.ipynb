{
  "nbformat": 4,
  "nbformat_minor": 0,
  "metadata": {
    "colab": {
      "name": "Untitled38.ipynb",
      "provenance": [],
      "collapsed_sections": []
    },
    "kernelspec": {
      "name": "python3",
      "display_name": "Python 3"
    },
    "language_info": {
      "name": "python"
    }
  },
  "cells": [
    {
      "cell_type": "code",
      "source": [
        "def add(P, Q):    \n",
        "   # This function is used for adding two numbers   \n",
        "   return P + Q   \n",
        "def subtract(P, Q):   \n",
        "   # This function is used for subtracting two numbers   \n",
        "   return P - Q   \n",
        "def multiply(P, Q):   \n",
        "   # This function is used for multiplying two numbers   \n",
        "   return P * Q   \n",
        "def divide(P, Q):   \n",
        "   # This function is used for dividing two numbers    \n",
        "   return P / Q    \n",
        "# Now we will take inputs from the user    \n",
        "print (\"Please select the operation.\")    \n",
        "print (\"a. Add\")    \n",
        "print (\"b. Subtract\")    \n",
        "print (\"c. Multiply\")    \n",
        "print (\"d. Divide\")    \n",
        "    \n",
        "choice = input(\"Please enter choice (a/ b/ c/ d): \")    \n",
        "    \n",
        "num_1 = int (input (\"Please enter the first number: \"))    \n",
        "num_2 = int (input (\"Please enter the second number: \"))    \n",
        "    \n",
        "if choice == 'a':    \n",
        "   print (num_1, \" + \", num_2, \" = \", add(num_1, num_2))    \n",
        "    \n",
        "elif choice == 'b':    \n",
        "   print (num_1, \" - \", num_2, \" = \", subtract(num_1, num_2))    \n",
        "    \n",
        "elif choice == 'c':    \n",
        "   print (num1, \" * \", num2, \" = \", multiply(num1, num2))    \n",
        "elif choice == 'd':    \n",
        "   print (num_1, \" / \", num_2, \" = \", divide(num_1, num_2))    \n",
        "else:    \n",
        "   print (\"This is an invalid input\") "
      ],
      "metadata": {
        "id": "HooosIVjWEst"
      },
      "execution_count": null,
      "outputs": []
    }
  ]
}